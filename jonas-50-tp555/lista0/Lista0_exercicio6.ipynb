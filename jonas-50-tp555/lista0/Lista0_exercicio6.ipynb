{
  "nbformat": 4,
  "nbformat_minor": 0,
  "metadata": {
    "colab": {
      "provenance": []
    },
    "kernelspec": {
      "name": "python3",
      "display_name": "Python 3"
    },
    "language_info": {
      "name": "python"
    }
  },
  "cells": [
    {
      "cell_type": "code",
      "execution_count": 1,
      "metadata": {
        "colab": {
          "base_uri": "https://localhost:8080/"
        },
        "id": "JPlaQT2fXR8n",
        "outputId": "47c5fbed-56a5-4ee3-fea6-1adb69475032"
      },
      "outputs": [
        {
          "output_type": "stream",
          "name": "stdout",
          "text": [
            "Dimensão da matriz: (4, 2)\n",
            "Matriz resultante da concatenação:\n",
            "[[0 0]\n",
            " [1 0]\n",
            " [0 1]\n",
            " [1 1]]\n"
          ]
        }
      ],
      "source": [
        "import numpy as np\n",
        "\n",
        "# Arrays 1D\n",
        "arr1 = np.array([0, 1, 0, 1])\n",
        "arr2 = np.array([0, 0, 1, 1])\n",
        "\n",
        "# Concatenando os arrays em uma matriz 2D\n",
        "matriz_2d = np.c_[arr1, arr2]\n",
        "\n",
        "# Dimensão da matriz\n",
        "print(\"Dimensão da matriz:\", matriz_2d.shape)\n",
        "\n",
        "# Matriz resultante\n",
        "print(\"Matriz resultante da concatenação:\")\n",
        "print(matriz_2d)\n"
      ]
    }
  ]
}