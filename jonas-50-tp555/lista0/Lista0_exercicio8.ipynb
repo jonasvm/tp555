{
  "nbformat": 4,
  "nbformat_minor": 0,
  "metadata": {
    "colab": {
      "provenance": []
    },
    "kernelspec": {
      "name": "python3",
      "display_name": "Python 3"
    },
    "language_info": {
      "name": "python"
    }
  },
  "cells": [
    {
      "cell_type": "code",
      "execution_count": 2,
      "metadata": {
        "colab": {
          "base_uri": "https://localhost:8080/"
        },
        "id": "lO540YjJmTGr",
        "outputId": "38457fdc-a728-428e-d285-052541cd3d71"
      },
      "outputs": [
        {
          "output_type": "stream",
          "name": "stdout",
          "text": [
            "Símbolos demodulados: [3 1 0 3 2 2 1 1 3 0 1 3 1 0 0 1 3 2 2 0 2 2 1 3 2 3 0 0 1 2 3 2 3 2 1 3 0\n",
            " 3 0 0 2 0 1 0 1 1 2 3 1 3 1 0 2 0 1 3 1 1 3 3 0 2 1 0 3 1 3 3 2 3 2 1 1 3\n",
            " 3 0 0 0 2 0 1 2 1 1 2 3 3 1 2 1 0 2 1 0 0 3 3 0 2 1 2 1 3 2 1 2 0 3 3 2 0\n",
            " 0 3 1 3 3 2 2 1 2 3 0 3 1 3 0 2 2 3 3 3 3 0 3 0 0 1 1 3 3 3 3 2 1 2 3 2 3\n",
            " 3 2 2 2 1 2 1 1 1 0 0 2 3 1 1 3 0 0 3 1 0 3 2 0 1 3 1 0 0 2 3 0 0 0 1 1 0\n",
            " 1 0 3 0 0 0 0 3 1 1 1 1 2 2 3 1 2 1 2 1 2 1 3 1 1 0 1 3 3 2 1 1 0 3 3 0 2\n",
            " 3 2 3 1 1 1 2 1 3 2 2 2 3 2 3 3 3 3 2 2 0 3 3 0 2 2 2 2 0 2 1 1 1 3 1 1 1\n",
            " 0 3 2 3 2 2 3 2 1 1 3 0 1 0 2 1 2 3 0 0 1 2 2 0 1 0 3 1 3 1 1 3 3 1 3 0 3\n",
            " 1 2 2 1 2 3 0 0 3 3 2 2 3 3 2 0 3 1 0 0 1 2 3 2 0 1 2 3 1 0 1 2 2 2 0 0 3\n",
            " 0 1 3 2 0 2 0 2 3 1 3 3 2 1 3 2 0 3 1 2 0 1 3 0 0 3 0 0 0 1 2 0 0 1 3 1 2\n",
            " 0 3 0 0 1 0 0 3 0 3 0 2 0 0 1 2 3 3 3 3 3 3 3 0 3 1 2 0 3 0 1 3 1 0 0 3 1\n",
            " 3 0 3 1 1 3 3 1 3 0 1 0 3 1 0 2 2 0 0 1 2 3 0 2 3 0 2 3 2 3 0 3 0 0 1 1 3\n",
            " 3 2 0 2 0 1 2 0 0 3 0 1 3 3 2 3 3 2 1 0 0 2 2 0 1 3 0 0 2 0 2 1 2 2 0 3 0\n",
            " 1 0 2 3 0 2 3 3 1 1 1 1 3 1 2 2 1 2 3 2 1 3 0 1 1 0 2 1 0 3 2 0 3 2 3 1 3\n",
            " 0 0 0 2 1 0 0 2 3 3 3 2 3 2 2 3 0 2 1 2 0 1 0 2 2 3 2 0 0 0 1 1 2 3 3 1 3\n",
            " 1 3 0 0 1 3 0 2 2 0 0 0 2 1 1 3 2 2 2 3 2 3 3 1 1 3 1 3 0 3 3 2 2 2 1 3 3\n",
            " 0 3 3 1 2 1 2 3 2 3 0 2 0 1 3 0 0 1 1 0 2 1 0 0 3 0 3 2 0 3 2 1 0 1 0 1 0\n",
            " 1 2 0 2 3 1 2 0 0 3 0 1 2 1 2 0 0 3 2 2 2 1 0 2 0 0 3 3 2 3 0 0 0 2 1 2 0\n",
            " 3 1 3 0 1 3 3 3 3 2 3 1 2 1 3 2 0 3 0 0 3 1 3 2 2 2 0 3 3 1 0 3 0 0 1 0 1\n",
            " 0 2 0 0 1 0 3 1 2 2 2 3 0 3 1 0 0 1 1 0 0 1 2 2 0 3 0 0 3 2 1 1 3 1 3 1 2\n",
            " 1 1 1 3 3 1 1 2 3 1 0 3 0 2 3 2 2 0 2 1 1 3 1 0 1 3 0 0 2 1 3 1 3 2 2 0 2\n",
            " 0 3 0 1 0 0 0 1 0 1 0 0 1 0 1 3 3 0 3 0 1 1 0 1 2 1 0 1 0 2 1 0 0 2 3 1 0\n",
            " 2 2 2 2 2 1 0 2 2 1 3 3 0 2 2 2 3 2 0 2 0 0 1 0 3 1 2 1 1 0 2 1 1 3 2 1 2\n",
            " 3 3 1 2 1 0 3 2 0 0 1 2 0 1 0 3 3 0 1 1 3 3 0 1 1 2 3 1 2 1 1 0 2 0 0 3 0\n",
            " 3 3 0 2 0 3 2 2 3 0 0 1 3 2 1 1 1 0 0 3 1 1 2 2 3 0 2 3 2 3 1 2 1 3 2 1 1\n",
            " 2 0 3 2 3 2 3 2 1 2 2 3 1 2 0 3 1 2 2 3 1 3 3 0 3 2 1 3 2 2 0 1 3 2 0 1 0\n",
            " 2 2 0 2 3 2 2 0 1 3 1 0 3 2 3 0 2 1 1 3 2 1 3 2 3 3 3 2 1 2 3 1 0 0 0 0 0\n",
            " 1]\n",
            "Comparação bem-sucedida: True\n"
          ]
        }
      ],
      "source": [
        "import numpy as np\n",
        "\n",
        "# Função moduladora\n",
        "def modulator(value):\n",
        "    # Definindo os números complexos para cada valor de 0 a 3\n",
        "    complex_numbers = [\n",
        "        1/np.sqrt(2) + 1j/np.sqrt(2),\n",
        "        -1/np.sqrt(2) + 1j/np.sqrt(2),\n",
        "        1/np.sqrt(2) - 1j/np.sqrt(2),\n",
        "        -1/np.sqrt(2) - 1j/np.sqrt(2)\n",
        "    ]\n",
        "    return complex_numbers[value]\n",
        "\n",
        "N = 1000\n",
        "\n",
        "# Vetor de 1000 valores aleatórios entre 0 e 3\n",
        "random_values = np.random.randint(0, 4, size=N)\n",
        "\n",
        "# Aplicando a função moduladora\n",
        "symbols = np.array([modulator(val) for val in random_values])\n",
        "\n",
        "# Função demodulator\n",
        "def demodulator(symbols):\n",
        "    # Definindo os símbolos complexos e seus valores correspondentes\n",
        "    symbol_map = {\n",
        "        1/np.sqrt(2) + 1j/np.sqrt(2): 0,   # bits 00\n",
        "        -1/np.sqrt(2) + 1j/np.sqrt(2): 1,  # bits 01\n",
        "        1/np.sqrt(2) - 1j/np.sqrt(2): 2,   # bits 10\n",
        "        -1/np.sqrt(2) - 1j/np.sqrt(2): 3   # bits 11\n",
        "    }\n",
        "\n",
        "    # Usando np.isclose para comparar com símbolos mapeados e retornar os valores\n",
        "    demodulated = [symbol_map.get(symbol, -1) for symbol in symbols]\n",
        "\n",
        "    return np.array(demodulated)\n",
        "\n",
        "# Usando os símbolos gerados anteriormente para demodular\n",
        "demodulated_symbols = demodulator(symbols)\n",
        "\n",
        "# Comparando os valores demodulados com os valores aleatórios usados como entrada para o modulator\n",
        "comparison = np.all(demodulated_symbols == random_values)\n",
        "\n",
        "# Exibindo o resultado\n",
        "print(\"Símbolos demodulados:\", demodulated_symbols)\n",
        "print(\"Comparação bem-sucedida:\", comparison)\n"
      ]
    }
  ]
}